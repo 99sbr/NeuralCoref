{
 "cells": [
  {
   "cell_type": "code",
   "execution_count": 46,
   "metadata": {},
   "outputs": [
    {
     "name": "stdout",
     "output_type": "stream",
     "text": [
      "Loading spacy model\n",
      "\n",
      "    \u001b[93mInfo about model en_core_web_sm\u001b[0m\n",
      "\n",
      "    lang               en             \n",
      "    pipeline           ['tagger', 'parser', 'ner']\n",
      "    accuracy           {'token_acc': 99.8698372794, 'ents_p': 84.9664503965, 'ents_r': 85.6312524451, 'uas': 91.7237657538, 'tags_acc': 97.0403350292, 'ents_f': 85.2975560875, 'las': 89.800872413}\n",
      "    name               core_web_sm    \n",
      "    license            CC BY-SA 3.0   \n",
      "    author             Explosion AI   \n",
      "    url                https://explosion.ai\n",
      "    vectors            {'keys': 0, 'width': 0, 'vectors': 0}\n",
      "    sources            ['OntoNotes 5', 'Common Crawl']\n",
      "    version            2.0.0          \n",
      "    spacy_version      >=2.0.0a18     \n",
      "    parent_package     spacy          \n",
      "    speed              {'gpu': None, 'nwords': 291344, 'cpu': 5122.3040471407}\n",
      "    email              contact@explosion.ai\n",
      "    description        English multi-task CNN trained on OntoNotes, with GloVe vectors trained on Common Crawl. Assigns word vectors, context-specific token vectors, POS tags, dependency parse and named entities.\n",
      "    source             /Users/subir/anaconda3/lib/python3.6/site-packages/en_core_web_sm\n",
      "\n",
      "loading model from /Users/subir/anaconda3/lib/python3.6/site-packages/neuralcoref/weights/\n"
     ]
    }
   ],
   "source": [
    "from neuralcoref import Coref\n",
    "coref=Coref()"
   ]
  },
  {
   "cell_type": "code",
   "execution_count": 47,
   "metadata": {},
   "outputs": [],
   "source": [
    "clusters=coref.continuous_coref(utterances=[u\"She has a friend\",u\"His name is Rick\"])"
   ]
  },
  {
   "cell_type": "code",
   "execution_count": 48,
   "metadata": {},
   "outputs": [
    {
     "name": "stdout",
     "output_type": "stream",
     "text": [
      "{2: [2, 1]}\n"
     ]
    }
   ],
   "source": [
    "print(clusters)"
   ]
  },
  {
   "cell_type": "code",
   "execution_count": 49,
   "metadata": {},
   "outputs": [
    {
     "name": "stdout",
     "output_type": "stream",
     "text": [
      "[She, a friend, His, His name, Rick]\n"
     ]
    }
   ],
   "source": [
    "mentions=coref.get_mentions()\n",
    "print(mentions)"
   ]
  },
  {
   "cell_type": "code",
   "execution_count": 50,
   "metadata": {},
   "outputs": [
    {
     "name": "stdout",
     "output_type": "stream",
     "text": [
      "[She has a friend, His name is Rick]\n"
     ]
    }
   ],
   "source": [
    "utterances=coref.get_utterances()\n",
    "print(utterances)"
   ]
  },
  {
   "cell_type": "code",
   "execution_count": 51,
   "metadata": {},
   "outputs": [
    {
     "name": "stdout",
     "output_type": "stream",
     "text": [
      "['She has a friend', 'a friend name is Rick']\n"
     ]
    }
   ],
   "source": [
    "resolved_utterance_text=coref.get_resolved_utterances()\n",
    "print(resolved_utterance_text)"
   ]
  },
  {
   "cell_type": "code",
   "execution_count": 52,
   "metadata": {},
   "outputs": [
    {
     "name": "stdout",
     "output_type": "stream",
     "text": [
      "{'pair_scores': {0: {},\n",
      "                 1: {0: -1.8591849353342151},\n",
      "                 2: {0: -3.529980404166605, 1: 0.9807060106548615},\n",
      "                 3: {0: -2.811741065098115,\n",
      "                     1: -1.5033094334903017,\n",
      "                     2: -2.214540458254188},\n",
      "                 4: {0: -2.8856570400333923,\n",
      "                     1: -1.5313296368424163,\n",
      "                     2: 0.23485955795766955,\n",
      "                     3: -1.583416860328278}},\n",
      " 'single_scores': {0: None,\n",
      "                   1: 1.6424665560919536,\n",
      "                   2: 0.06397608099999863,\n",
      "                   3: 1.9747888017615658,\n",
      "                   4: 1.4165088130407972}}\n"
     ]
    }
   ],
   "source": [
    "from pprint import pprint\n",
    "scores=coref.get_scores()\n",
    "pprint(scores)"
   ]
  },
  {
   "cell_type": "code",
   "execution_count": 53,
   "metadata": {},
   "outputs": [
    {
     "name": "stdout",
     "output_type": "stream",
     "text": [
      "{His: a friend}\n"
     ]
    }
   ],
   "source": [
    "most_representative=coref.get_most_representative()\n",
    "pprint(most_representative)"
   ]
  },
  {
   "cell_type": "code",
   "execution_count": null,
   "metadata": {
    "collapsed": true
   },
   "outputs": [],
   "source": []
  },
  {
   "cell_type": "code",
   "execution_count": null,
   "metadata": {
    "collapsed": true
   },
   "outputs": [],
   "source": []
  }
 ],
 "metadata": {
  "kernelspec": {
   "display_name": "Python 3",
   "language": "python",
   "name": "python3"
  },
  "language_info": {
   "codemirror_mode": {
    "name": "ipython",
    "version": 3
   },
   "file_extension": ".py",
   "mimetype": "text/x-python",
   "name": "python",
   "nbconvert_exporter": "python",
   "pygments_lexer": "ipython3",
   "version": "3.6.3"
  }
 },
 "nbformat": 4,
 "nbformat_minor": 2
}
