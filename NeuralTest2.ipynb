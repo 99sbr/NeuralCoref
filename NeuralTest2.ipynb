{
 "cells": [
  {
   "cell_type": "code",
   "execution_count": 8,
   "metadata": {},
   "outputs": [
    {
     "name": "stdout",
     "output_type": "stream",
     "text": [
      "Loading spacy model\n",
      "\n",
      "    \u001b[93mInfo about model en_core_web_sm\u001b[0m\n",
      "\n",
      "    lang               en             \n",
      "    pipeline           ['tagger', 'parser', 'ner']\n",
      "    accuracy           {'token_acc': 99.8698372794, 'ents_p': 84.9664503965, 'ents_r': 85.6312524451, 'uas': 91.7237657538, 'tags_acc': 97.0403350292, 'ents_f': 85.2975560875, 'las': 89.800872413}\n",
      "    name               core_web_sm    \n",
      "    license            CC BY-SA 3.0   \n",
      "    author             Explosion AI   \n",
      "    url                https://explosion.ai\n",
      "    vectors            {'keys': 0, 'width': 0, 'vectors': 0}\n",
      "    sources            ['OntoNotes 5', 'Common Crawl']\n",
      "    version            2.0.0          \n",
      "    spacy_version      >=2.0.0a18     \n",
      "    parent_package     spacy          \n",
      "    speed              {'gpu': None, 'nwords': 291344, 'cpu': 5122.3040471407}\n",
      "    email              contact@explosion.ai\n",
      "    description        English multi-task CNN trained on OntoNotes, with GloVe vectors trained on Common Crawl. Assigns word vectors, context-specific token vectors, POS tags, dependency parse and named entities.\n",
      "    source             /Users/subir/anaconda3/lib/python3.6/site-packages/en_core_web_sm\n",
      "\n",
      "loading model from /Users/subir/anaconda3/lib/python3.6/site-packages/neuralcoref/weights/\n"
     ]
    }
   ],
   "source": [
    "from neuralcoref import Coref\n",
    "coref=Coref()"
   ]
  },
  {
   "cell_type": "code",
   "execution_count": 9,
   "metadata": {},
   "outputs": [],
   "source": [
    "clusters=coref.continuous_coref(utterances=[u\"My sister has a Dog.She loves him.\"])"
   ]
  },
  {
   "cell_type": "code",
   "execution_count": 10,
   "metadata": {},
   "outputs": [
    {
     "name": "stdout",
     "output_type": "stream",
     "text": [
      "[My sister, a Dog, She, him]\n"
     ]
    }
   ],
   "source": [
    "mentions=coref.get_mentions()\n",
    "print(mentions)"
   ]
  },
  {
   "cell_type": "code",
   "execution_count": 11,
   "metadata": {},
   "outputs": [
    {
     "name": "stdout",
     "output_type": "stream",
     "text": [
      "[My sister has a Dog.She loves him.]\n"
     ]
    }
   ],
   "source": [
    "utterances=coref.get_utterances()\n",
    "print(utterances)"
   ]
  },
  {
   "cell_type": "code",
   "execution_count": 12,
   "metadata": {},
   "outputs": [
    {
     "name": "stdout",
     "output_type": "stream",
     "text": [
      "['My sister has a Dog.my sister loves a dog.']\n"
     ]
    }
   ],
   "source": [
    "resolved_utterance_text=coref.get_resolved_utterances()\n",
    "print(resolved_utterance_text)"
   ]
  },
  {
   "cell_type": "code",
   "execution_count": 13,
   "metadata": {},
   "outputs": [
    {
     "name": "stdout",
     "output_type": "stream",
     "text": [
      "{She: My sister, him: a Dog}\n"
     ]
    }
   ],
   "source": [
    "most_representative=coref.get_most_representative()\n",
    "print(most_representative)"
   ]
  },
  {
   "cell_type": "code",
   "execution_count": null,
   "metadata": {
    "collapsed": true
   },
   "outputs": [],
   "source": [
    "from  ~./"
   ]
  },
  {
   "cell_type": "code",
   "execution_count": null,
   "metadata": {
    "collapsed": true
   },
   "outputs": [],
   "source": []
  },
  {
   "cell_type": "code",
   "execution_count": null,
   "metadata": {},
   "outputs": [],
   "source": []
  },
  {
   "cell_type": "code",
   "execution_count": null,
   "metadata": {},
   "outputs": [],
   "source": []
  },
  {
   "cell_type": "code",
   "execution_count": null,
   "metadata": {},
   "outputs": [],
   "source": []
  }
 ],
 "metadata": {
  "kernelspec": {
   "display_name": "Python 3",
   "language": "python",
   "name": "python3"
  },
  "language_info": {
   "codemirror_mode": {
    "name": "ipython",
    "version": 3
   },
   "file_extension": ".py",
   "mimetype": "text/x-python",
   "name": "python",
   "nbconvert_exporter": "python",
   "pygments_lexer": "ipython3",
   "version": "3.6.3"
  }
 },
 "nbformat": 4,
 "nbformat_minor": 2
}
