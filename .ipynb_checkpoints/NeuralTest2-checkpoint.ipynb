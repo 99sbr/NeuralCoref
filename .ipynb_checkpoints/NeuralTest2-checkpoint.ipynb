{
 "cells": [
  {
   "cell_type": "code",
   "execution_count": 9,
   "metadata": {},
   "outputs": [
    {
     "name": "stdout",
     "output_type": "stream",
     "text": [
      "Loading spacy model\n",
      "\n",
      "    \u001b[93mInfo about model en_core_web_sm\u001b[0m\n",
      "\n",
      "    lang               en             \n",
      "    pipeline           ['tagger', 'parser', 'ner']\n",
      "    accuracy           {'token_acc': 99.8698372794, 'ents_p': 84.9664503965, 'ents_r': 85.6312524451, 'uas': 91.7237657538, 'tags_acc': 97.0403350292, 'ents_f': 85.2975560875, 'las': 89.800872413}\n",
      "    name               core_web_sm    \n",
      "    license            CC BY-SA 3.0   \n",
      "    author             Explosion AI   \n",
      "    url                https://explosion.ai\n",
      "    vectors            {'keys': 0, 'width': 0, 'vectors': 0}\n",
      "    sources            ['OntoNotes 5', 'Common Crawl']\n",
      "    version            2.0.0          \n",
      "    spacy_version      >=2.0.0a18     \n",
      "    parent_package     spacy          \n",
      "    speed              {'gpu': None, 'nwords': 291344, 'cpu': 5122.3040471407}\n",
      "    email              contact@explosion.ai\n",
      "    description        English multi-task CNN trained on OntoNotes, with GloVe vectors trained on Common Crawl. Assigns word vectors, context-specific token vectors, POS tags, dependency parse and named entities.\n",
      "    source             /Users/subir/anaconda3/lib/python3.6/site-packages/en_core_web_sm\n",
      "\n",
      "loading model from /Users/subir/anaconda3/lib/python3.6/site-packages/neuralcoref/weights/\n"
     ]
    }
   ],
   "source": [
    "from neuralcoref import Coref\n",
    "coref=Coref()"
   ]
  },
  {
   "cell_type": "code",
   "execution_count": 24,
   "metadata": {},
   "outputs": [],
   "source": [
    "clusters=coref.continuous_coref(utterances=[u\"My sister has a Dog.She loves him.He is a rare breed.\"])"
   ]
  },
  {
   "cell_type": "code",
   "execution_count": 25,
   "metadata": {},
   "outputs": [
    {
     "name": "stdout",
     "output_type": "stream",
     "text": [
      "{14: [14, 8, 2, 12, 6, 0], 16: [16, 15, 10, 9, 3, 13, 7, 1]}\n"
     ]
    }
   ],
   "source": [
    "print(clusters)"
   ]
  },
  {
   "cell_type": "code",
   "execution_count": 26,
   "metadata": {},
   "outputs": [
    {
     "name": "stdout",
     "output_type": "stream",
     "text": [
      "[My sister, a Dog, She, him, The Dog, a rare breed, My sister, a Dog, She, him, He, a rare breed, My sister, a Dog, She, him, He, a rare breed]\n"
     ]
    }
   ],
   "source": [
    "mentions=coref.get_mentions()\n",
    "print(mentions)"
   ]
  },
  {
   "cell_type": "code",
   "execution_count": 27,
   "metadata": {},
   "outputs": [
    {
     "name": "stdout",
     "output_type": "stream",
     "text": [
      "[My sister has a Dog.She loves him.He is a rare breed.]\n"
     ]
    }
   ],
   "source": [
    "utterances=coref.get_utterances()\n",
    "print(utterances)"
   ]
  },
  {
   "cell_type": "code",
   "execution_count": 28,
   "metadata": {},
   "outputs": [
    {
     "name": "stdout",
     "output_type": "stream",
     "text": [
      "['My sister has a Dog.my sister loves a dog.a dog is a rare breed.']\n"
     ]
    }
   ],
   "source": [
    "resolved_utterance_text=coref.get_resolved_utterances()\n",
    "print(resolved_utterance_text)"
   ]
  },
  {
   "cell_type": "code",
   "execution_count": 29,
   "metadata": {},
   "outputs": [
    {
     "name": "stdout",
     "output_type": "stream",
     "text": [
      "{'pair_scores': {0: {},\n",
      "                 1: {0: -1.5874842463408578},\n",
      "                 2: {0: 7.653491467979426, 1: 1.7947309641810856},\n",
      "                 3: {0: 2.882544831542333,\n",
      "                     1: 5.670462905155664,\n",
      "                     2: -3.2022962516614624},\n",
      "                 4: {},\n",
      "                 5: {},\n",
      "                 6: {0: 7.432158821720711,\n",
      "                     1: -1.6970685168527944,\n",
      "                     2: -2.0865160382815504,\n",
      "                     3: -3.440792894907981,\n",
      "                     4: -1.035802097653743,\n",
      "                     5: -1.5486918283428692},\n",
      "                 7: {0: -1.791273723921778,\n",
      "                     1: 6.674913791711634,\n",
      "                     2: -2.62492454536116,\n",
      "                     3: -2.2680424165755735,\n",
      "                     4: 1.2019214893913328,\n",
      "                     5: -1.5005807603464008,\n",
      "                     6: -1.5873310098472442},\n",
      "                 8: {0: 6.370890281323908,\n",
      "                     1: -0.13008196868105548,\n",
      "                     2: 9.663986518766542,\n",
      "                     3: -4.521681935411989,\n",
      "                     4: 1.017309665164373,\n",
      "                     5: -1.5607599766141609,\n",
      "                     6: 7.650811848587977,\n",
      "                     7: 1.8910412029026942},\n",
      "                 9: {0: 0.4924478047311043,\n",
      "                     1: 4.88030104177006,\n",
      "                     2: -3.6129722920028495,\n",
      "                     3: 5.965940342579212,\n",
      "                     4: 3.1336335790448224,\n",
      "                     5: -1.4485534597164522,\n",
      "                     6: 2.9757548649399723,\n",
      "                     7: 5.710947436841837,\n",
      "                     8: -3.1932479699116016},\n",
      "                 10: {0: 1.337249813804902,\n",
      "                      1: 2.557269337532788,\n",
      "                      2: -3.676533462867808,\n",
      "                      3: 4.948993206560854,\n",
      "                      4: 6.746676239861281,\n",
      "                      5: -1.4949699371199172,\n",
      "                      6: 1.7434901425379934,\n",
      "                      7: 3.118612829716467,\n",
      "                      8: -3.3603902110198955,\n",
      "                      9: 7.364525222415437},\n",
      "                 11: {},\n",
      "                 12: {0: 7.325457911348152,\n",
      "                      1: -1.8065835371102614,\n",
      "                      2: -2.2500852365473696,\n",
      "                      3: -3.6055735824659156,\n",
      "                      4: -1.5620374421951377,\n",
      "                      5: -1.5882944664386127,\n",
      "                      6: 7.402414890489358,\n",
      "                      7: -1.6985201242058254,\n",
      "                      8: -2.0595083313452034,\n",
      "                      9: -3.4371915346434445,\n",
      "                      10: -2.9799225583507134,\n",
      "                      11: -1.5695369989985162},\n",
      "                 13: {0: -1.832471109568988,\n",
      "                      1: 6.200541541029891,\n",
      "                      2: -2.6906762875191323,\n",
      "                      3: -2.4510756951780803,\n",
      "                      4: 1.418112577879274,\n",
      "                      5: -1.5076228872984767,\n",
      "                      6: -1.7887024302858108,\n",
      "                      7: 6.655265602412373,\n",
      "                      8: -2.623514339925272,\n",
      "                      9: -2.2561391099606984,\n",
      "                      10: -2.839922399820239,\n",
      "                      11: -1.4999559057697387,\n",
      "                      12: -1.5873374542234946},\n",
      "                 14: {0: 6.157397627972322,\n",
      "                      1: -0.24497855690871972,\n",
      "                      2: 9.15040785595459,\n",
      "                      3: -4.283781158302426,\n",
      "                      4: 1.1067417772376662,\n",
      "                      5: -1.5804107911349825,\n",
      "                      6: 6.368677613306544,\n",
      "                      7: -0.02959077633036733,\n",
      "                      8: 9.665517595755738,\n",
      "                      9: -4.50734417236153,\n",
      "                      10: -4.096850710624293,\n",
      "                      11: -1.5820744224712036,\n",
      "                      12: 7.651625245482395,\n",
      "                      13: 1.9474379281029766},\n",
      "                 15: {0: -0.23114717938583063,\n",
      "                      1: 4.603993571996565,\n",
      "                      2: -3.5364459431409156,\n",
      "                      3: 5.741778541472473,\n",
      "                      4: 3.093416171520822,\n",
      "                      5: -1.4281629035559467,\n",
      "                      6: 0.6256633312915167,\n",
      "                      7: 4.915438459625887,\n",
      "                      8: -3.6119301104037276,\n",
      "                      9: 5.9528072360397255,\n",
      "                      10: 7.8426055205585135,\n",
      "                      11: -1.4958302784067072,\n",
      "                      12: 3.0650676716512937,\n",
      "                      13: 5.746147610531014,\n",
      "                      14: -3.184266813925915},\n",
      "                 16: {0: 1.2776690148413747,\n",
      "                      1: 3.4238764234432546,\n",
      "                      2: -3.499684610430056,\n",
      "                      3: 4.796935471542811,\n",
      "                      4: 6.381972718715178,\n",
      "                      5: -1.4717593309940706,\n",
      "                      6: 1.4450810185496605,\n",
      "                      7: 2.654144575291304,\n",
      "                      8: -3.6722414391462372,\n",
      "                      9: 4.961809628121309,\n",
      "                      10: 10.020170335133187,\n",
      "                      11: -1.5428476577400079,\n",
      "                      12: 1.7634829141133785,\n",
      "                      13: 3.1984803612327912,\n",
      "                      14: -3.3570747260872333,\n",
      "                      15: 7.3369454092222695},\n",
      "                 17: {0: -1.8298476970573354,\n",
      "                      1: -1.512804967009003,\n",
      "                      2: -2.8917403866482196,\n",
      "                      3: -3.2029390442153276,\n",
      "                      4: -1.6690960218034734,\n",
      "                      5: -1.474895479373677,\n",
      "                      6: -1.802763239464451,\n",
      "                      7: -1.5094749409285366,\n",
      "                      8: -2.860995923806543,\n",
      "                      9: -3.0421883603836846,\n",
      "                      10: -3.143013829876638,\n",
      "                      11: -1.476497319869971,\n",
      "                      12: -1.7395356590177093,\n",
      "                      13: -1.5094005557094796,\n",
      "                      14: -2.5770046458894194,\n",
      "                      15: -2.7235804326289874,\n",
      "                      16: -2.589999203001807}},\n",
      " 'single_scores': {0: None,\n",
      "                   1: 1.6526031686241036,\n",
      "                   2: 0.002757832534333038,\n",
      "                   3: -1.4181088932202355,\n",
      "                   4: None,\n",
      "                   5: None,\n",
      "                   6: 1.333203700315742,\n",
      "                   7: 1.6512394587693198,\n",
      "                   8: 0.08161034416895052,\n",
      "                   9: -1.4273762507100312,\n",
      "                   10: -1.3630106988723087,\n",
      "                   11: None,\n",
      "                   12: 1.3251538160870684,\n",
      "                   13: 1.6504990952196232,\n",
      "                   14: 0.16250119506910332,\n",
      "                   15: -1.4375698916605066,\n",
      "                   16: -1.332492962945862,\n",
      "                   17: 1.8463980271521199}}\n"
     ]
    }
   ],
   "source": [
    "from pprint import pprint\n",
    "scores=coref.get_scores()\n",
    "pprint(scores)"
   ]
  },
  {
   "cell_type": "code",
   "execution_count": 30,
   "metadata": {},
   "outputs": [
    {
     "name": "stdout",
     "output_type": "stream",
     "text": [
      "{She: My sister, him: a Dog, He: a Dog}\n"
     ]
    }
   ],
   "source": [
    "most_representative=coref.get_most_representative()\n",
    "pprint(most_representative)"
   ]
  },
  {
   "cell_type": "code",
   "execution_count": null,
   "metadata": {
    "collapsed": true
   },
   "outputs": [],
   "source": []
  },
  {
   "cell_type": "code",
   "execution_count": null,
   "metadata": {
    "collapsed": true
   },
   "outputs": [],
   "source": []
  }
 ],
 "metadata": {
  "kernelspec": {
   "display_name": "Python 3",
   "language": "python",
   "name": "python3"
  },
  "language_info": {
   "codemirror_mode": {
    "name": "ipython",
    "version": 3
   },
   "file_extension": ".py",
   "mimetype": "text/x-python",
   "name": "python",
   "nbconvert_exporter": "python",
   "pygments_lexer": "ipython3",
   "version": "3.6.3"
  }
 },
 "nbformat": 4,
 "nbformat_minor": 2
}
