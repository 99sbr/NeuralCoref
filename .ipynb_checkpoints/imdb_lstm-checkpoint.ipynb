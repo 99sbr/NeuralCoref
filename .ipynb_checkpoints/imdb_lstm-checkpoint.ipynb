{
 "cells": [
  {
   "cell_type": "code",
   "execution_count": 3,
   "metadata": {},
   "outputs": [
    {
     "name": "stdout",
     "output_type": "stream",
     "text": [
      "Loading data...\n"
     ]
    },
    {
     "name": "stderr",
     "output_type": "stream",
     "text": [
      "/Users/subir/anaconda3/lib/python3.6/site-packages/keras/datasets/imdb.py:49: UserWarning: The `nb_words` argument in `load_data` has been renamed `num_words`.\n",
      "  warnings.warn('The `nb_words` argument in `load_data` '\n"
     ]
    },
    {
     "name": "stdout",
     "output_type": "stream",
     "text": [
      "25000 train sequences\n",
      "25000 test sequences\n"
     ]
    }
   ],
   "source": [
    "from __future__ import absolute_import\n",
    "from __future__ import print_function\n",
    "import numpy as np\n",
    "np.random.seed(1337)  # for reproducibility\n",
    "\n",
    "from keras.preprocessing import sequence\n",
    "from keras.optimizers import SGD, RMSprop, Adagrad\n",
    "from keras.utils import np_utils\n",
    "from keras.models import Sequential\n",
    "from keras.layers.core import Dense, Dropout, Activation\n",
    "from keras.layers.embeddings import Embedding\n",
    "from keras.layers.recurrent import LSTM, GRU\n",
    "from keras.datasets import imdb\n",
    "\n",
    "\n",
    "\n",
    "max_features = 10000\n",
    "maxlen = 500  # cut texts after this number of words (among top max_features most common words)\n",
    "batch_size = 32\n",
    "embedding_vector_length=32\n",
    "print(\"Loading data...\")\n",
    "(X_train, y_train), (X_test, y_test) = imdb.load_data(num_words=max_features)\n",
    "print(len(X_train), 'train sequences')\n",
    "print(len(X_test), 'test sequences')\n",
    "\n"
   ]
  },
  {
   "cell_type": "code",
   "execution_count": 4,
   "metadata": {
    "collapsed": true
   },
   "outputs": [
    {
     "name": "stdout",
     "output_type": "stream",
     "text": [
      "Pad sequences (samples x time)\n",
      "X_train shape: (25000, 500)\n",
      "X_test shape: (25000, 500)\n",
      "Build model...\n",
      "Train...\n"
     ]
    },
    {
     "name": "stderr",
     "output_type": "stream",
     "text": [
      "/Users/subir/anaconda3/lib/python3.6/site-packages/keras/models.py:944: UserWarning: The `nb_epoch` argument in `fit` has been renamed `epochs`.\n",
      "  warnings.warn('The `nb_epoch` argument in `fit` '\n"
     ]
    },
    {
     "name": "stdout",
     "output_type": "stream",
     "text": [
      "Train on 25000 samples, validate on 25000 samples\n",
      "Epoch 1/5\n",
      "25000/25000 [==============================] - 458s 18ms/step - loss: 0.5015 - val_loss: 0.3477\n",
      "Epoch 2/5\n",
      "25000/25000 [==============================] - 433s 17ms/step - loss: 0.3667 - val_loss: 0.4126\n",
      "Epoch 3/5\n",
      "25000/25000 [==============================] - 450s 18ms/step - loss: 0.2698 - val_loss: 0.3707\n",
      "Epoch 4/5\n",
      "25000/25000 [==============================] - 457s 18ms/step - loss: 0.2112 - val_loss: 0.3375\n",
      "Epoch 5/5\n",
      "25000/25000 [==============================] - 491s 20ms/step - loss: 0.1773 - val_loss: 0.3537\n",
      "25000/25000 [==============================] - 126s 5ms/step\n",
      "Test score: 0.35371619759082795\n"
     ]
    }
   ],
   "source": [
    "print(\"Pad sequences (samples x time)\")\n",
    "X_train = sequence.pad_sequences(X_train, maxlen=maxlen)\n",
    "X_test = sequence.pad_sequences(X_test, maxlen=maxlen)\n",
    "print('X_train shape:', X_train.shape)\n",
    "print('X_test shape:', X_test.shape)\n",
    "\n",
    "print('Build model...')\n",
    "model = Sequential()\n",
    "model.add(Embedding(max_features,embedding_vector_length, input_length=maxlen))\n",
    "model.add(LSTM(128))  # try using a GRU instead, for fun\n",
    "model.add(Dropout(0.2))\n",
    "model.add(Dense(1))\n",
    "model.add(Activation('sigmoid'))\n",
    "\n",
    "# try using different optimizers and different optimizer configs\n",
    "model.compile(loss='binary_crossentropy', optimizer='adam',metrics=['accuracy'])\n",
    "\n",
    "print(\"Train...\")\n",
    "model.fit(X_train, y_train, batch_size=batch_size,epochs=5, validation_data=(X_test, y_test),verbose=True)\n",
    "score= model.evaluate(X_test, y_test, batch_size=batch_size)\n",
    "print('Test score:', score)\n"
   ]
  },
  {
   "cell_type": "code",
   "execution_count": 5,
   "metadata": {},
   "outputs": [
    {
     "name": "stdout",
     "output_type": "stream",
     "text": [
      "Build model GRU\n",
      "Train...\n",
      "Train on 25000 samples, validate on 25000 samples\n",
      "Epoch 1/5\n",
      "25000/25000 [==============================] - 358s 14ms/step - loss: 0.4800 - acc: 0.7619 - val_loss: 0.3256 - val_acc: 0.8616\n",
      "Epoch 2/5\n",
      "25000/25000 [==============================] - 383s 15ms/step - loss: 0.2832 - acc: 0.8877 - val_loss: 0.3476 - val_acc: 0.8497\n",
      "Epoch 3/5\n",
      "25000/25000 [==============================] - 399s 16ms/step - loss: 0.2299 - acc: 0.9080 - val_loss: 0.4446 - val_acc: 0.8461\n",
      "Epoch 4/5\n",
      "25000/25000 [==============================] - 447s 18ms/step - loss: 0.1681 - acc: 0.9373 - val_loss: 0.3295 - val_acc: 0.8817\n",
      "Epoch 5/5\n",
      "25000/25000 [==============================] - 469s 19ms/step - loss: 0.1161 - acc: 0.9602 - val_loss: 0.3702 - val_acc: 0.8767\n",
      "25000/25000 [==============================] - 103s 4ms/step\n",
      "Test score: [0.37019708607673646, 0.87672]\n"
     ]
    }
   ],
   "source": [
    "print('Build model GRU')\n",
    "model = Sequential()\n",
    "model.add(Embedding(max_features,embedding_vector_length, input_length=maxlen))\n",
    "model.add(GRU(128))  # try using a GRU instead, for fun\n",
    "model.add(Dropout(0.2))\n",
    "model.add(Dense(1))\n",
    "model.add(Activation('sigmoid'))\n",
    "\n",
    "# try using different optimizers and different optimizer configs\n",
    "model.compile(loss='binary_crossentropy', optimizer='adam',metrics=['accuracy'])\n",
    "\n",
    "print(\"Train..\")\n",
    "model.fit(X_train, y_train, batch_size=batch_size,epochs=5, validation_data=(X_test, y_test),verbose=True)\n",
    "score= model.evaluate(X_test, y_test, batch_size=batch_size)\n",
    "print('Test score:', score)"
   ]
  },
  {
   "cell_type": "code",
   "execution_count": null,
   "metadata": {},
   "outputs": [],
   "source": []
  }
 ],
 "metadata": {
  "kernelspec": {
   "display_name": "Python 3",
   "language": "python",
   "name": "python3"
  },
  "language_info": {
   "codemirror_mode": {
    "name": "ipython",
    "version": 3
   },
   "file_extension": ".py",
   "mimetype": "text/x-python",
   "name": "python",
   "nbconvert_exporter": "python",
   "pygments_lexer": "ipython3",
   "version": "3.6.3"
  }
 },
 "nbformat": 4,
 "nbformat_minor": 2
}
